{
 "cells": [
  {
   "cell_type": "code",
   "execution_count": null,
   "id": "b2e1c52a-f315-40a5-8435-61822f78135e",
   "metadata": {},
   "outputs": [],
   "source": [
    "Q1. What is Flask Framework? What are the advantages of Flask Framework?"
   ]
  },
  {
   "cell_type": "code",
   "execution_count": null,
   "id": "1f25e19c-b6c9-4b34-8ea7-0e2a27aa7cf8",
   "metadata": {},
   "outputs": [],
   "source": [
    "flask Framework:\n",
    "    Flask is a web framework, it is a Python module that lets you develop web applications easily.\n",
    "    It  has a small and easy-to-extend core: it microframework that does not include an ORM (Object Relational Manager) or such features.\n",
    "    It does have many cool features like url routing, template engine.\n",
    "    \n",
    "advantages of Flask Framework:\n",
    "    1. It is a lightweight framework that offers hassle-free development.\n",
    "    2. Provide flexibility to the developer to experiment with their modules or architecture.\n",
    "    3. It is suitable for small projects.\n",
    "    4. Offers a built-in development server and fast debugger.\n",
    "    5. Easily scalable for the applications.\n",
    "    6. Support for secure cookies.\n",
    "    "
   ]
  },
  {
   "cell_type": "code",
   "execution_count": null,
   "id": "a0b16473-2ccb-4a18-99a3-29badf1c3be4",
   "metadata": {},
   "outputs": [],
   "source": [
    "Q2. Create a simple Flask application to display ‘Hello World!!’. Attach the screenshot of the output in\n",
    "Jupyter Notebook."
   ]
  },
  {
   "cell_type": "code",
   "execution_count": null,
   "id": "9d332c0f-dc44-4beb-87ff-b2c6183b343a",
   "metadata": {},
   "outputs": [],
   "source": [
    "from flask import Flask\n",
    "\n",
    "app1=Flask('__name__')\n",
    "\n",
    "@app1.route('/hello')\n",
    "def hello():\n",
    "    return '<h1>Hello World!</h1>'\n",
    "\n",
    "if __name__==\"__main__\":\n",
    "    app1.run(host=\"0.0.0.0\")"
   ]
  },
  {
   "cell_type": "code",
   "execution_count": null,
   "id": "82cf6b8b-2d17-43b4-bea7-62185fecbd25",
   "metadata": {},
   "outputs": [],
   "source": []
  },
  {
   "cell_type": "code",
   "execution_count": null,
   "id": "d808e8f9-598d-43dd-88fb-f0567d146ec4",
   "metadata": {},
   "outputs": [],
   "source": [
    "Q3. What is App routing in Flask? Why do we use app routes?"
   ]
  },
  {
   "cell_type": "code",
   "execution_count": null,
   "id": "076eb4ac-677a-4c73-88c5-ecc09df6e8ef",
   "metadata": {},
   "outputs": [],
   "source": [
    "App routing in Flask:\n",
    "    App routing is the technique used to map the specific URL with the associated function intended to perform some task.\n",
    "    The Latest Web frameworks use the routing technique to help users remember application URLs.\n",
    "    List the different methods to bind the URLs to their associated functions"
   ]
  },
  {
   "cell_type": "code",
   "execution_count": null,
   "id": "0443e7e6-1baa-4aca-a8c0-5bd006ec2644",
   "metadata": {},
   "outputs": [],
   "source": [
    "Q4. Create a “/welcome” route to display the welcome message “Welcome to ABC Corporation” and a “/”\n",
    "route to show the following details:\n",
    "Company Name: ABC Corporation\n",
    "Location: India\n",
    "Contact Detail: 999-999-9999"
   ]
  },
  {
   "cell_type": "code",
   "execution_count": null,
   "id": "98eb9223-3c47-4d71-8f6a-154fe39da234",
   "metadata": {},
   "outputs": [],
   "source": [
    "from flask import Flask\n",
    "from flask import request\n",
    "\n",
    "msg=Flask('__name__')\n",
    "\n",
    "@msg.route('/welcome')\n",
    "def message():\n",
    "    return '<h2>Welcome to ABC Corporation</h2>'\n",
    "\n",
    "@msg.route('/')\n",
    "def details():\n",
    "    comp_name='ABC Corporation'\n",
    "    loc='India'\n",
    "    cnt='999-999-999'\n",
    "    return ' Company Name :{}'.format(comp_name)+'<br> loctation:{}'.format(loc)+'<br> Contact Detail:{}'.format(cnt)\n",
    "\n",
    "if __name__==\"__main__\":\n",
    "    msg.run(host=\"0.0.0.0\")"
   ]
  },
  {
   "cell_type": "code",
   "execution_count": null,
   "id": "966286b6-6570-4948-a49e-07048c1891e6",
   "metadata": {},
   "outputs": [],
   "source": []
  },
  {
   "cell_type": "code",
   "execution_count": null,
   "id": "df7ba99b-f5be-49f2-a5b9-e874b62a58db",
   "metadata": {},
   "outputs": [],
   "source": [
    "Q5. What function is used in Flask for URL Building? Write a Python code to demonstrate the working of the\n",
    "url_for() function."
   ]
  },
  {
   "cell_type": "code",
   "execution_count": null,
   "id": "756e7202-a004-40b2-9120-2fa449ccc4b2",
   "metadata": {},
   "outputs": [],
   "source": [
    "Flask url_for is defined as a function that enables developers to build and generate URLs on a Flask application. \n",
    "As a best practice, it is the url_for function that is required to be used, \n",
    "as hard coding the URL in templates and view function of the Flask application tends to utilize more time during modification"
   ]
  }
 ],
 "metadata": {
  "kernelspec": {
   "display_name": "Python 3 (ipykernel)",
   "language": "python",
   "name": "python3"
  },
  "language_info": {
   "codemirror_mode": {
    "name": "ipython",
    "version": 3
   },
   "file_extension": ".py",
   "mimetype": "text/x-python",
   "name": "python",
   "nbconvert_exporter": "python",
   "pygments_lexer": "ipython3",
   "version": "3.10.8"
  }
 },
 "nbformat": 4,
 "nbformat_minor": 5
}
